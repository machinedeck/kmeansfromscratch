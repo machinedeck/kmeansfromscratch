{
  "cells": [
    {
      "cell_type": "markdown",
      "metadata": {
        "id": "a2JkCwoIkOzm"
      },
      "source": [
        "<h1>Constructing K-Means Algorithm From Scratch</h1>\n",
        "<h4><font color = gray>Part 2: Iterating until there is no way to make the clustering any better</h4><font color = black>\n",
        "<code>by Marc Arvie V. Talavera</code>\n",
        "\n",
        "This notebook is the continuation of k-mean clustering from scratch by optimizing the total distances of the data points to their corresponding centroids."
      ]
    },
    {
      "cell_type": "code",
      "execution_count": 1,
      "metadata": {
        "id": "KR1cMTnwRzLn"
      },
      "outputs": [],
      "source": [
        "# Import libraries\n",
        "import numpy as np\n",
        "import matplotlib.pyplot as plt"
      ]
    },
    {
      "cell_type": "code",
      "execution_count": 2,
      "metadata": {
        "id": "-2orfW8CR55Y"
      },
      "outputs": [],
      "source": [
        "# Try to generate data\n",
        "dist1 = np.random.multivariate_normal([1, 2], [[1, 0], [0, 1]], 500)\n",
        "dist2 = np.random.multivariate_normal([5, 7], [[2, 0], [0, 5]], 500)\n",
        "\n",
        "# Append the data in one array\n",
        "data = []\n",
        "for i in dist1:\n",
        "  data.append(i)\n",
        "for i in dist2:\n",
        "  data.append(i)\n",
        "\n",
        "# Transform into an array\n",
        "data = np.array(data)"
      ]
    },
    {
      "cell_type": "markdown",
      "metadata": {},
      "source": [
        "We will continue with the code for k-mean where we modify some of the parameters so that we want to optimize the distances of the data points to their corresponding centroids, and stop when there is convergence or the cluster cannot get any better. We will also use the same method of generating the dataset from the first part."
      ]
    },
    {
      "cell_type": "code",
      "execution_count": 25,
      "metadata": {
        "id": "48iPWj0EVQic"
      },
      "outputs": [],
      "source": [
        "# Time to perform the algorithm\n",
        "\n",
        "# Set the number of clusters\n",
        "k = 2\n",
        "\n",
        "# Select k random points on the dataset\n",
        "indices = np.random.choice(range(0, data.shape[0]), k)\n",
        "\n",
        "# Initialize the centroids\n",
        "centroids = np.zeros((k, data.shape[1]))\n",
        "centroids[:] = np.array([data[i] for i in indices])\n",
        "\n",
        "# Create array for assigning kth cluster for each data point\n",
        "assignment = np.zeros(data.shape[0])\n",
        "\n",
        "# Initialize zeroth iteration\n",
        "iter = 0\n",
        "\n",
        "# Initialize fitness value to be zero since squared difference will just be\n",
        "# the first fitness value\n",
        "fit1 = 0\n",
        "\n",
        "# Define squared difference; make it one as to satisfy the while loop\n",
        "# for the first iteration\n",
        "diff_squared = 1\n",
        "\n",
        "# Define Euclidean distance\n",
        "def dist(array1, array2):\n",
        "  dist_vector = array1 - array2\n",
        "  dist_squared = np.dot(dist_vector, dist_vector)\n",
        "  return np.sqrt(dist_squared)\n",
        "  \n",
        "# Start iterations\n",
        "while diff_squared > 0:\n",
        "  # For calculating efficiency\n",
        "  efficiency_holder = np.zeros(k)\n",
        "\n",
        "  # Calculate distances\n",
        "  for index1, (point) in enumerate(data):\n",
        "    distances = np.zeros(k)\n",
        "    for index2, (centroid) in enumerate(centroids):\n",
        "      distances[index2] = dist(point, centroid)\n",
        "    \n",
        "    # Determine which cluster is closest to the point\n",
        "    argmin = np.argmin(distances)\n",
        "    # Assign cluster\n",
        "    assignment[index1] = argmin\n",
        "    # Add distances of points belonging to same cluster\n",
        "    efficiency_holder[argmin] += distances[argmin]**2\n",
        "\n",
        "  # After assigning values, group them into clusters to get new centroid\n",
        "  for cluster in range(0, k):\n",
        "    # Determine indices of points belonging to a cluster\n",
        "    cluster_indices = np.argwhere(assignment == cluster).ravel()\n",
        "    cluster_group = data[cluster_indices]\n",
        "\n",
        "    # Determine centroid of this cluster group\n",
        "    centroids[cluster] = np.sum(cluster_group, axis = 0) / len(cluster_group)\n",
        "\n",
        "  # Record efficiency for the given iteration\n",
        "  fit2 = np.sum(efficiency_holder)\n",
        "\n",
        "  # Squared of difference between present and past consecutive fitnesses\n",
        "  diff_squared = (fit2 - fit1)**2\n",
        "\n",
        "  # Update fit1 so that it fit 2 for this loop is fit1 in the next iteration\n",
        "  fit1 = fit2\n",
        "\n",
        "  # Update iter values to be used to determine number of iterations used\n",
        "  iter += 1"
      ]
    },
    {
      "cell_type": "code",
      "execution_count": 30,
      "metadata": {
        "colab": {
          "base_uri": "https://localhost:8080/",
          "height": 350
        },
        "id": "qhvNr-t_XysG",
        "outputId": "e8673d77-6ec7-4827-e00d-e676b718967f"
      },
      "outputs": [
        {
          "data": {
            "image/png": "[encoded data removed]",
            "text/plain": [
              "<Figure size 432x288 with 1 Axes>"
            ]
          },
          "metadata": {
            "needs_background": "light"
          },
          "output_type": "display_data"
        },
        {
          "name": "stdout",
          "output_type": "stream",
          "text": [
            "The number of iterations is 5.\n"
          ]
        }
      ],
      "source": [
        "# Plot the result\n",
        "# Cluster 1\n",
        "cluster_1 = data[np.argwhere(assignment == 0).ravel()]\n",
        "# Cluster 2\n",
        "cluster_2 = data[np.argwhere(assignment == 1).ravel()]\n",
        "\n",
        "# Plot\n",
        "fig = plt.plot(figsize = (15, 5))\n",
        "# Cluster 1 plot\n",
        "plt.plot(cluster_1[:, 0], cluster_1[:, 1], \"bo\", label = \"Cluster 1\")\n",
        "# Cluster 2 plot\n",
        "plt.plot(cluster_2[:, 0], cluster_2[:, 1], \"ro\", label = \"Cluster 2\")\n",
        "plt.xlabel(\"x\")\n",
        "plt.ylabel(\"y\")\n",
        "plt.title(\"K-means Clustering\")\n",
        "plt.legend()\n",
        "plt.show()\n",
        "\n",
        "print(\"The number of iterations is {}.\".format(iter))"
      ]
    },
    {
      "cell_type": "markdown",
      "metadata": {
        "id": "DneBHOMukePH"
      },
      "source": [
        "<h2>Conclusion</h2>\n",
        "\n",
        "In this notebook, we tried to iterate the algorithm until the difference between the current and previous fitness functions becomes zero. We see that the number of iterations is much less, and we are still able to cluster the dataset effectively. The caveat is, the plot of fitness values versus the number of iterations may have a convergence within some range of values, then eventually goes down beyond that. However, this could be impossible to happen to this algorithm (<b><font color = red>to be verified</b><font color = black>) because this is not a stochastic one like genetic algorithm. It is recommended to create a module or package to simplify running this algorithm, and giving the user freedom to choose whether to supply the number of iterations of not."
      ]
    }
  ],
  "metadata": {
    "colab": {
      "provenance": []
    },
    "kernelspec": {
      "display_name": "Python 3.9.7 ('base')",
      "language": "python",
      "name": "python3"
    },
    "language_info": {
      "codemirror_mode": {
        "name": "ipython",
        "version": 3
      },
      "file_extension": ".py",
      "mimetype": "text/x-python",
      "name": "python",
      "nbconvert_exporter": "python",
      "pygments_lexer": "ipython3",
      "version": "3.9.7"
    },
    "vscode": {
      "interpreter": {
        "hash": "11c4ff1cc9ea2f0b64be833ff566e14c8f7c8329a268fa4729b18c3361a65dd7"
      }
    }
  },
  "nbformat": 4,
  "nbformat_minor": 0
}
